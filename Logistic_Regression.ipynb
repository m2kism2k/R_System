{
 "cells": [
  {
   "cell_type": "code",
   "execution_count": 27,
   "id": "43d2427d",
   "metadata": {},
   "outputs": [],
   "source": [
    "#import Libraries\n",
    "import numpy as np\n",
    "import pandas as pd\n",
    "import matplotlib.pyplot as plt\n",
    "from sklearn.model_selection import train_test_split\n",
    "from sklearn.linear_model import LinearRegression\n"
   ]
  },
  {
   "cell_type": "code",
   "execution_count": 28,
   "id": "d2765dbc",
   "metadata": {},
   "outputs": [
    {
     "data": {
      "text/html": [
       "<div>\n",
       "<style scoped>\n",
       "    .dataframe tbody tr th:only-of-type {\n",
       "        vertical-align: middle;\n",
       "    }\n",
       "\n",
       "    .dataframe tbody tr th {\n",
       "        vertical-align: top;\n",
       "    }\n",
       "\n",
       "    .dataframe thead th {\n",
       "        text-align: right;\n",
       "    }\n",
       "</style>\n",
       "<table border=\"1\" class=\"dataframe\">\n",
       "  <thead>\n",
       "    <tr style=\"text-align: right;\">\n",
       "      <th></th>\n",
       "      <th>Experiences</th>\n",
       "      <th>Salary</th>\n",
       "    </tr>\n",
       "  </thead>\n",
       "  <tbody>\n",
       "    <tr>\n",
       "      <th>0</th>\n",
       "      <td>1.0</td>\n",
       "      <td>2000</td>\n",
       "    </tr>\n",
       "    <tr>\n",
       "      <th>1</th>\n",
       "      <td>1.5</td>\n",
       "      <td>2500</td>\n",
       "    </tr>\n",
       "    <tr>\n",
       "      <th>2</th>\n",
       "      <td>2.0</td>\n",
       "      <td>3000</td>\n",
       "    </tr>\n",
       "    <tr>\n",
       "      <th>3</th>\n",
       "      <td>2.5</td>\n",
       "      <td>3500</td>\n",
       "    </tr>\n",
       "    <tr>\n",
       "      <th>4</th>\n",
       "      <td>3.0</td>\n",
       "      <td>4000</td>\n",
       "    </tr>\n",
       "  </tbody>\n",
       "</table>\n",
       "</div>"
      ],
      "text/plain": [
       "   Experiences  Salary\n",
       "0          1.0    2000\n",
       "1          1.5    2500\n",
       "2          2.0    3000\n",
       "3          2.5    3500\n",
       "4          3.0    4000"
      ]
     },
     "execution_count": 28,
     "metadata": {},
     "output_type": "execute_result"
    }
   ],
   "source": [
    "#import dataset\n",
    "dataset = pd.read_csv(\"C://Users//IDEAL//Documents//p1.csv\")\n",
    "dataset.head()"
   ]
  },
  {
   "cell_type": "code",
   "execution_count": 29,
   "id": "02c2d236",
   "metadata": {},
   "outputs": [],
   "source": [
    "#Define X and Y\n",
    "X=dataset.iloc[:,:-1].values\n",
    "Y=dataset.iloc[:,1].values"
   ]
  },
  {
   "cell_type": "code",
   "execution_count": 30,
   "id": "266252db",
   "metadata": {},
   "outputs": [
    {
     "data": {
      "text/plain": [
       "array([[ 1. ],\n",
       "       [ 1.5],\n",
       "       [ 2. ],\n",
       "       [ 2.5],\n",
       "       [ 3. ],\n",
       "       [ 3.5],\n",
       "       [ 4. ],\n",
       "       [ 4.5],\n",
       "       [ 5. ],\n",
       "       [ 5.5],\n",
       "       [ 6. ],\n",
       "       [ 6.5],\n",
       "       [ 7. ],\n",
       "       [ 7.5],\n",
       "       [ 8. ],\n",
       "       [ 8.5],\n",
       "       [ 9. ],\n",
       "       [ 9.5],\n",
       "       [10. ]])"
      ]
     },
     "execution_count": 30,
     "metadata": {},
     "output_type": "execute_result"
    }
   ],
   "source": [
    "X"
   ]
  },
  {
   "cell_type": "code",
   "execution_count": 31,
   "id": "1fa138b5",
   "metadata": {},
   "outputs": [
    {
     "data": {
      "text/plain": [
       "array([ 2000,  2500,  3000,  3500,  4000,  4500,  5000,  5500,  6000,\n",
       "        6500,  7000,  7500,  8000,  8500,  9000,  9500, 10000, 11000,\n",
       "       15000], dtype=int64)"
      ]
     },
     "execution_count": 31,
     "metadata": {},
     "output_type": "execute_result"
    }
   ],
   "source": [
    "Y"
   ]
  },
  {
   "cell_type": "code",
   "execution_count": 32,
   "id": "adcd927c",
   "metadata": {},
   "outputs": [],
   "source": [
    "#Split the data into training and testing 70, 30\n",
    "X_train,X_test,Y_train,Y_test=train_test_split(X,Y, test_size=0.3, random_state=0)"
   ]
  },
  {
   "cell_type": "code",
   "execution_count": 33,
   "id": "fa891759",
   "metadata": {},
   "outputs": [
    {
     "data": {
      "text/plain": [
       "(array([[4. ],\n",
       "        [3. ],\n",
       "        [2. ],\n",
       "        [3.5],\n",
       "        [7.5],\n",
       "        [5.5],\n",
       "        [4.5],\n",
       "        [9.5],\n",
       "        [6.5],\n",
       "        [2.5],\n",
       "        [1. ],\n",
       "        [8.5],\n",
       "        [7. ]]),\n",
       " array([[ 6. ],\n",
       "        [ 1.5],\n",
       "        [ 5. ],\n",
       "        [10. ],\n",
       "        [ 8. ],\n",
       "        [ 9. ]]),\n",
       " array([ 5000,  4000,  3000,  4500,  8500,  6500,  5500, 11000,  7500,\n",
       "         3500,  2000,  9500,  8000], dtype=int64),\n",
       " array([ 7000,  2500,  6000, 15000,  9000, 10000], dtype=int64))"
      ]
     },
     "execution_count": 33,
     "metadata": {},
     "output_type": "execute_result"
    }
   ],
   "source": [
    "X_train,X_test,Y_train,Y_test"
   ]
  },
  {
   "cell_type": "code",
   "execution_count": 42,
   "id": "b8e1aa94",
   "metadata": {},
   "outputs": [
    {
     "data": {
      "text/plain": [
       "LinearRegression()"
      ]
     },
     "execution_count": 42,
     "metadata": {},
     "output_type": "execute_result"
    }
   ],
   "source": [
    "reg= LinearRegression()\n",
    "#to fit the model with our split dataset, first we try for train and then for test and compare\n",
    "reg.fit(X_train,Y_train)"
   ]
  },
  {
   "cell_type": "code",
   "execution_count": 44,
   "id": "6b3df5bc",
   "metadata": {},
   "outputs": [
    {
     "data": {
      "text/plain": [
       "array([ 7065.24725275,  2444.71153846,  6038.46153846, 11172.39010989,\n",
       "        9118.81868132, 10145.6043956 ])"
      ]
     },
     "execution_count": 44,
     "metadata": {},
     "output_type": "execute_result"
    }
   ],
   "source": [
    "#predict \n",
    "Y_predict=reg.predict(X_test)\n",
    "Y_predict"
   ]
  },
  {
   "cell_type": "code",
   "execution_count": 47,
   "id": "a17fc3c5",
   "metadata": {},
   "outputs": [
    {
     "data": {
      "text/plain": [
       "array([ 7000,  2500,  6000, 15000,  9000, 10000], dtype=int64)"
      ]
     },
     "execution_count": 47,
     "metadata": {},
     "output_type": "execute_result"
    }
   ],
   "source": [
    "#the different btw pred and test\n",
    "Y_test"
   ]
  },
  {
   "cell_type": "code",
   "execution_count": 49,
   "id": "a809f880",
   "metadata": {},
   "outputs": [
    {
     "data": {
      "image/png": "[encoded data removed]",
      "text/plain": [
       "<Figure size 640x480 with 1 Axes>"
      ]
     },
     "metadata": {},
     "output_type": "display_data"
    }
   ],
   "source": [
    "#display on grap\n",
    "plt.scatter(X_train,Y_train, color='red')\n",
    "plt.plot(X_train,reg.predict(X_train),color='blue')\n",
    "plt.title(\"Linear Regression Salary vs Experiences\",size=18)\n",
    "plt.xlabel(\"Years of Employee\",size=15)\n",
    "plt.ylabel(\"Salaries of Employee\",size=15)\n",
    "plt.show()"
   ]
  },
  {
   "cell_type": "code",
   "execution_count": null,
   "id": "3a4eacd1",
   "metadata": {},
   "outputs": [],
   "source": []
  }
 ],
 "metadata": {
  "kernelspec": {
   "display_name": "Python 3 (ipykernel)",
   "language": "python",
   "name": "python3"
  },
  "language_info": {
   "codemirror_mode": {
    "name": "ipython",
    "version": 3
   },
   "file_extension": ".py",
   "mimetype": "text/x-python",
   "name": "python",
   "nbconvert_exporter": "python",
   "pygments_lexer": "ipython3",
   "version": "3.9.13"
  }
 },
 "nbformat": 4,
 "nbformat_minor": 5
}
