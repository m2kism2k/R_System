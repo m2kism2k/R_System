{
 "cells": [
  {
   "cell_type": "code",
   "execution_count": 1,
   "id": "4557d236",
   "metadata": {},
   "outputs": [],
   "source": [
    "import os\n",
    "os.environ[\"Spark_home\"] = \"D:/spark-3.4.1-bin-hadoop3\"\n"
   ]
  },
  {
   "cell_type": "code",
   "execution_count": 2,
   "id": "ca60c007",
   "metadata": {},
   "outputs": [],
   "source": [
    "import pyspark\n",
    "from pyspark.sql import SparkSession\n",
    "from pyspark.ml.evaluation import RegressionEvaluator\n",
    "from pyspark.ml.recommendation import ALS\n",
    "from pyspark.sql.functions import col"
   ]
  },
  {
   "cell_type": "code",
   "execution_count": 3,
   "id": "6364d200",
   "metadata": {},
   "outputs": [],
   "source": [
    "spark = SparkSession.builder.appName(\"movies_Recommendation\").master(\"local\").getOrCreate()\n"
   ]
  },
  {
   "cell_type": "code",
   "execution_count": 4,
   "id": "1aeb7995",
   "metadata": {},
   "outputs": [],
   "source": [
    "df = spark.read.csv(\"C:/Users/IDEAL/Desktop/ratings.csv\", inferSchema=True, header=True)"
   ]
  },
  {
   "cell_type": "code",
   "execution_count": 5,
   "id": "7ebf3934",
   "metadata": {},
   "outputs": [],
   "source": [
    "#df.show()"
   ]
  },
  {
   "cell_type": "code",
   "execution_count": 6,
   "id": "65a9d380",
   "metadata": {},
   "outputs": [
    {
     "name": "stdout",
     "output_type": "stream",
     "text": [
      "+-------+-----------------+------------------+------------------+--------------------+\n",
      "|summary|           userId|           movieId|            rating|           timestamp|\n",
      "+-------+-----------------+------------------+------------------+--------------------+\n",
      "|  count|         26024289|          26024289|          26024289|            26024289|\n",
      "|   mean| 135037.090248114|15849.109677040553|3.5280903543608817|1.1712584326913223E9|\n",
      "| stddev|78176.19722170963|31085.257531391508|1.0654427636662405|2.0528887028185263E8|\n",
      "|    min|                1|                 1|               0.5|           789652004|\n",
      "|    max|           270896|            176275|               5.0|          1501829870|\n",
      "+-------+-----------------+------------------+------------------+--------------------+\n",
      "\n"
     ]
    }
   ],
   "source": [
    "df.describe().show()"
   ]
  },
  {
   "cell_type": "code",
   "execution_count": 7,
   "id": "911f8663",
   "metadata": {},
   "outputs": [],
   "source": [
    "(train, test) = df.randomSplit([0.7, 0.3], seed=42)"
   ]
  },
  {
   "cell_type": "code",
   "execution_count": 8,
   "id": "28cafa62",
   "metadata": {},
   "outputs": [],
   "source": [
    "als = ALS(maxIter=5, regParam=0.01, userCol=\"userId\", itemCol=\"movieId\", ratingCol=\"rating\")"
   ]
  },
  {
   "cell_type": "code",
   "execution_count": 9,
   "id": "6dad211f",
   "metadata": {
    "scrolled": false
   },
   "outputs": [],
   "source": [
    "model = als.fit(train)"
   ]
  },
  {
   "cell_type": "code",
   "execution_count": 11,
   "id": "93c7567d",
   "metadata": {},
   "outputs": [],
   "source": [
    "pred = model.transform(test)"
   ]
  },
  {
   "cell_type": "code",
   "execution_count": 12,
   "id": "5de2102a",
   "metadata": {},
   "outputs": [
    {
     "name": "stdout",
     "output_type": "stream",
     "text": [
      "+------+-------+------+----------+----------+\n",
      "|userId|movieId|rating| timestamp|prediction|\n",
      "+------+-------+------+----------+----------+\n",
      "|     1|    858|   5.0|1425941523|  4.317981|\n",
      "|     1|  58559|   4.0|1425942007| 4.0110464|\n",
      "|     1|  81834|   5.0|1425942133| 4.4471855|\n",
      "|     1|  98809|   0.5|1425942640| 3.8321376|\n",
      "|     2|    339|   5.0| 867041296| 3.6341438|\n",
      "|     1|   4226|   4.0|1425942228|  4.746791|\n",
      "|     1|  96821|   5.0|1425941382| 5.3166966|\n",
      "|     1|  91542|   5.0|1425942618| 3.8924344|\n",
      "|     1|  59315|   5.0|1425941502| 3.5215898|\n",
      "|     1|   2959|   4.0|1425941601|  4.369206|\n",
      "|     2|    648|   4.0| 867039167| 2.7252045|\n",
      "|     2|   1233|   4.0| 867039820|   3.63178|\n",
      "|     2|     25|   3.0| 867039168| 2.1871753|\n",
      "|     2|     32|   2.0| 867039166| 3.5376983|\n",
      "|     2|    786|   1.0| 867039249|  3.219135|\n",
      "|     2|     58|   3.0| 867039325|  4.158926|\n",
      "|     2|    260|   4.0| 867039249|  4.043883|\n",
      "|     1|   2762|   4.5|1425941300| 3.7820456|\n",
      "|     2|     79|   4.0| 867039325| 3.9856913|\n",
      "|     2|    788|   1.0| 867039288| 2.1786885|\n",
      "+------+-------+------+----------+----------+\n",
      "only showing top 20 rows\n",
      "\n"
     ]
    }
   ],
   "source": [
    "pred.show()"
   ]
  },
  {
   "cell_type": "code",
   "execution_count": 14,
   "id": "c6d896bc",
   "metadata": {},
   "outputs": [],
   "source": [
    "eval = RegressionEvaluator(metricName=\"rmse\",labelCol=\"rating\", predictionCol=\"prediction\")"
   ]
  },
  {
   "cell_type": "code",
   "execution_count": 17,
   "id": "8ba5dbfd",
   "metadata": {},
   "outputs": [
    {
     "name": "stdout",
     "output_type": "stream",
     "text": [
      "RMSE: nan\n"
     ]
    }
   ],
   "source": [
    "rmse = eval.evaluate(pred)\n",
    "print(f\"RMSE: {rmse}\")"
   ]
  },
  {
   "cell_type": "code",
   "execution_count": 18,
   "id": "df9448a3",
   "metadata": {},
   "outputs": [],
   "source": [
    "#RMSE describe our error in terms of the starts rating column"
   ]
  },
  {
   "cell_type": "code",
   "execution_count": 19,
   "id": "d5cfdab9",
   "metadata": {},
   "outputs": [],
   "source": [
    "user_1 = test.filter(test['userId'] == 1).select(['movieId', \"userId\"])"
   ]
  },
  {
   "cell_type": "code",
   "execution_count": 20,
   "id": "4f0d0737",
   "metadata": {},
   "outputs": [
    {
     "name": "stdout",
     "output_type": "stream",
     "text": [
      "+-------+------+\n",
      "|movieId|userId|\n",
      "+-------+------+\n",
      "|    858|     1|\n",
      "|   2762|     1|\n",
      "|   2959|     1|\n",
      "|   4226|     1|\n",
      "|  54503|     1|\n",
      "|  58559|     1|\n",
      "|  59315|     1|\n",
      "|  81834|     1|\n",
      "|  91542|     1|\n",
      "|  96821|     1|\n",
      "|  98809|     1|\n",
      "+-------+------+\n",
      "\n"
     ]
    }
   ],
   "source": [
    "user_1.show()"
   ]
  },
  {
   "cell_type": "code",
   "execution_count": 21,
   "id": "c5567252",
   "metadata": {},
   "outputs": [],
   "source": [
    "rec = model.transform(user_1)"
   ]
  },
  {
   "cell_type": "code",
   "execution_count": 22,
   "id": "4e53cbef",
   "metadata": {},
   "outputs": [
    {
     "name": "stdout",
     "output_type": "stream",
     "text": [
      "+-------+------+----------+\n",
      "|movieId|userId|prediction|\n",
      "+-------+------+----------+\n",
      "|  96821|     1| 5.3166966|\n",
      "|   4226|     1|  4.746791|\n",
      "|  81834|     1| 4.4471855|\n",
      "|   2959|     1|  4.369206|\n",
      "|    858|     1|  4.317981|\n",
      "|  54503|     1| 4.2595515|\n",
      "|  58559|     1| 4.0110464|\n",
      "|  91542|     1| 3.8924344|\n",
      "|  98809|     1| 3.8321376|\n",
      "|   2762|     1| 3.7820456|\n",
      "|  59315|     1| 3.5215898|\n",
      "+-------+------+----------+\n",
      "\n"
     ]
    }
   ],
   "source": [
    "rec.orderBy(\"prediction\", ascending=False).show()"
   ]
  },
  {
   "cell_type": "code",
   "execution_count": null,
   "id": "e3f363fa",
   "metadata": {},
   "outputs": [],
   "source": []
  }
 ],
 "metadata": {
  "kernelspec": {
   "display_name": "Python 3 (ipykernel)",
   "language": "python",
   "name": "python3"
  },
  "language_info": {
   "codemirror_mode": {
    "name": "ipython",
    "version": 3
   },
   "file_extension": ".py",
   "mimetype": "text/x-python",
   "name": "python",
   "nbconvert_exporter": "python",
   "pygments_lexer": "ipython3",
   "version": "3.9.13"
  }
 },
 "nbformat": 4,
 "nbformat_minor": 5
}
