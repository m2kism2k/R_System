{
 "cells": [
  {
   "cell_type": "code",
   "execution_count": 2,
   "id": "2eeaf911",
   "metadata": {},
   "outputs": [
    {
     "name": "stdout",
     "output_type": "stream",
     "text": [
      "Defaulting to user installation because normal site-packages is not writeable\n",
      "Requirement already satisfied: pyspark in c:\\users\\ideal\\appdata\\roaming\\python\\python39\\site-packages (3.4.0)\n",
      "Requirement already satisfied: py4j==0.10.9.7 in c:\\users\\ideal\\appdata\\roaming\\python\\python39\\site-packages (from pyspark) (0.10.9.7)\n",
      "Defaulting to user installation because normal site-packages is not writeable\n",
      "Requirement already satisfied: findspark in c:\\users\\ideal\\appdata\\roaming\\python\\python39\\site-packages (2.0.1)\n"
     ]
    }
   ],
   "source": [
    "!pip install pyspark\n",
    "!pip install findspark\n",
    "from pyspark.sql import SparkSession\n",
    "import findspark\n",
    "import numpy as np\n",
    "\n",
    "findspark.init()\n",
    "spark = SparkSession.builder.appName('dataframe').getOrCreate()"
   ]
  },
  {
   "cell_type": "code",
   "execution_count": 3,
   "id": "a1bbb599",
   "metadata": {},
   "outputs": [
    {
     "data": {
      "text/plain": [
       "[(1, 2), (3, 4), (5, 6), (7, 8), (9, 10)]"
      ]
     },
     "execution_count": 3,
     "metadata": {},
     "output_type": "execute_result"
    }
   ],
   "source": [
    "myData = spark.sparkContext.parallelize([(1,2),(3,4),(5,6),(7,8),(9,10)])\n",
    "\n",
    "myData.collect()"
   ]
  },
  {
   "cell_type": "code",
   "execution_count": 4,
   "id": "2cf61728",
   "metadata": {},
   "outputs": [
    {
     "name": "stdout",
     "output_type": "stream",
     "text": [
      "+----+----+----+-----+\n",
      "|col1|col2|col3| col4|\n",
      "+----+----+----+-----+\n",
      "|   1|   2|   3|a b c|\n",
      "|   4|   5|   6|d e f|\n",
      "|   7|   8|   9|g h i|\n",
      "+----+----+----+-----+\n",
      "\n"
     ]
    },
    {
     "data": {
      "text/plain": [
       "[Row(col1=1, col2=2, col3=3, col4='a b c'),\n",
       " Row(col1=4, col2=5, col3=6, col4='d e f'),\n",
       " Row(col1=7, col2=8, col3=9, col4='g h i')]"
      ]
     },
     "execution_count": 4,
     "metadata": {},
     "output_type": "execute_result"
    }
   ],
   "source": [
    "rdd = spark.sparkContext.parallelize([(1,2,3,'a b c'),(4,5,6,'d e f'),(7,8,9,'g h i')])\n",
    "\n",
    "col = (['col1','col2','col3','col4'])\n",
    "\n",
    "df = rdd.toDF(col)\n",
    "\n",
    "df.show()\n",
    "df.collect()"
   ]
  },
  {
   "cell_type": "code",
   "execution_count": 11,
   "id": "9e7703b0",
   "metadata": {},
   "outputs": [
    {
     "name": "stdout",
     "output_type": "stream",
     "text": [
      "+---+-----+------+------------+\n",
      "| ID| Name|Salary|DepartmentID|\n",
      "+---+-----+------+------------+\n",
      "|  1|  Joe| 70000|           1|\n",
      "|  2|Henry| 80000|           2|\n",
      "|  3|  Sam| 60000|           2|\n",
      "|  4|  Max| 90000|           1|\n",
      "+---+-----+------+------------+\n",
      "\n"
     ]
    },
    {
     "data": {
      "text/plain": [
       "[Row(ID='1', Name='Joe', Salary='70000', DepartmentID='1'),\n",
       " Row(ID='2', Name='Henry', Salary='80000', DepartmentID='2'),\n",
       " Row(ID='3', Name='Sam', Salary='60000', DepartmentID='2'),\n",
       " Row(ID='4', Name='Max', Salary='90000', DepartmentID='1')]"
      ]
     },
     "execution_count": 11,
     "metadata": {},
     "output_type": "execute_result"
    }
   ],
   "source": [
    "Employee = spark.createDataFrame([\n",
    "('1','Joe','70000','1'),\n",
    "('2','Henry','80000','2'),\n",
    "('3','Sam','60000','2'),\n",
    "('4','Max','90000','1')],\n",
    "['ID','Name','Salary','DepartmentID'])\n",
    "\n",
    "Employee.show()\n",
    "Employee.collect()"
   ]
  },
  {
   "cell_type": "code",
   "execution_count": 16,
   "id": "1892e9b0",
   "metadata": {},
   "outputs": [
    {
     "name": "stdout",
     "output_type": "stream",
     "text": [
      "+---+---+---+\n",
      "|  A|  B|  C|\n",
      "+---+---+---+\n",
      "|  a|  1|  2|\n",
      "|  b|  2|  3|\n",
      "|  c|  3|  4|\n",
      "+---+---+---+\n",
      "\n"
     ]
    }
   ],
   "source": [
    "my_list = [['a',1,2],['b',2,3],['c',3,4]]\n",
    "col_name = ['A','B','C']\n",
    "\n",
    "spark.createDataFrame(my_list,col_name).show()"
   ]
  },
  {
   "cell_type": "code",
   "execution_count": 16,
   "id": "aaf65b30",
   "metadata": {},
   "outputs": [
    {
     "name": "stdout",
     "output_type": "stream",
     "text": [
      "+------+---+----+\n",
      "|     A|  B|   C|\n",
      "+------+---+----+\n",
      "|  male|  1|null|\n",
      "|female|  2|   3|\n",
      "|  male|  3|   4|\n",
      "+------+---+----+\n",
      "\n"
     ]
    }
   ],
   "source": [
    "my_list1 = [['male',1, None],['female',2,3],['male',3,4]]\n",
    "\n",
    "ds = spark.createDataFrame(my_list1, ['A','B','C'])\n",
    "\n",
    "ds.head()\n",
    "ds.show()"
   ]
  },
  {
   "cell_type": "code",
   "execution_count": 12,
   "id": "a236addd",
   "metadata": {
    "scrolled": true
   },
   "outputs": [
    {
     "data": {
      "text/plain": [
       "[Row(A='male', B=1, C=None),\n",
       " Row(A='female', B=2, C=3),\n",
       " Row(A='male', B=3, C=4)]"
      ]
     },
     "execution_count": 12,
     "metadata": {},
     "output_type": "execute_result"
    }
   ],
   "source": [
    "ds.collect"
   ]
  },
  {
   "cell_type": "code",
   "execution_count": 20,
   "id": "17589023",
   "metadata": {},
   "outputs": [
    {
     "name": "stdout",
     "output_type": "stream",
     "text": [
      "+---+---+---+\n",
      "|  A|  B|  C|\n",
      "+---+---+---+\n",
      "|  0|  1|  0|\n",
      "|  1|  0|  1|\n",
      "|  1|  0|  0|\n",
      "+---+---+---+\n",
      "\n"
     ]
    }
   ],
   "source": [
    "d = {'A':[0,1,0],\n",
    "     'B':[1,0,1],\n",
    "     'C':[1,0,0]}\n",
    "\n",
    "spark.createDataFrame(np.array(list(d.values())).tolist(),list(d.keys())).show()"
   ]
  },
  {
   "cell_type": "code",
   "execution_count": 21,
   "id": "1446dd0e",
   "metadata": {},
   "outputs": [
    {
     "name": "stdout",
     "output_type": "stream",
     "text": [
      "+------+---+---+\n",
      "|     A|  B|  C|\n",
      "+------+---+---+\n",
      "|  male|  1|-99|\n",
      "|female|  2|  3|\n",
      "|  male|  3|  4|\n",
      "+------+---+---+\n",
      "\n"
     ]
    }
   ],
   "source": [
    "ds.fillna(-99).show()"
   ]
  },
  {
   "cell_type": "code",
   "execution_count": 22,
   "id": "b3ec9bf9",
   "metadata": {},
   "outputs": [
    {
     "name": "stdout",
     "output_type": "stream",
     "text": [
      "+---+---+----+\n",
      "|  A|  B|   C|\n",
      "+---+---+----+\n",
      "|  1|  1|null|\n",
      "|  0|  2|   3|\n",
      "|  1|  3|   4|\n",
      "+---+---+----+\n",
      "\n"
     ]
    }
   ],
   "source": [
    "ds.replace(['male','female'],['1','0']).show()"
   ]
  },
  {
   "cell_type": "code",
   "execution_count": 33,
   "id": "bda11e7b",
   "metadata": {},
   "outputs": [
    {
     "name": "stdout",
     "output_type": "stream",
     "text": [
      "+------+---+----+\n",
      "|     a|  b|   c|\n",
      "+------+---+----+\n",
      "|  male|  1|null|\n",
      "|female|  2|   3|\n",
      "|  male|  3|   4|\n",
      "+------+---+----+\n",
      "\n"
     ]
    }
   ],
   "source": [
    "ds.toDF('a','b','c').show()"
   ]
  },
  {
   "cell_type": "code",
   "execution_count": 35,
   "id": "21d1aa7d",
   "metadata": {},
   "outputs": [
    {
     "name": "stdout",
     "output_type": "stream",
     "text": [
      "+------+---+----+\n",
      "|Gender|  B|   C|\n",
      "+------+---+----+\n",
      "|  male|  1|null|\n",
      "|female|  2|   3|\n",
      "|  male|  3|   4|\n",
      "+------+---+----+\n",
      "\n"
     ]
    }
   ],
   "source": [
    "ds.withColumnRenamed('A', 'Gender').show()"
   ]
  },
  {
   "cell_type": "code",
   "execution_count": 25,
   "id": "1551ce70",
   "metadata": {
    "scrolled": true
   },
   "outputs": [
    {
     "name": "stdout",
     "output_type": "stream",
     "text": [
      "+------+---+----+\n",
      "|Gender|Seq|   C|\n",
      "+------+---+----+\n",
      "|  male|  1|null|\n",
      "|female|  2|   3|\n",
      "|  male|  3|   4|\n",
      "+------+---+----+\n",
      "\n"
     ]
    }
   ],
   "source": [
    "mapping = {'A': 'Gender', 'B': 'Seq'}\n",
    "new_colname = [mapping.get(col,col) for col in ds.columns]\n",
    "newdf = ds.toDF(*new_colname).show()"
   ]
  },
  {
   "cell_type": "code",
   "execution_count": 41,
   "id": "206f9c43",
   "metadata": {
    "scrolled": false
   },
   "outputs": [
    {
     "name": "stdout",
     "output_type": "stream",
     "text": [
      "+------+---+\n",
      "|Gender|Seq|\n",
      "+------+---+\n",
      "|  male|  1|\n",
      "|female|  2|\n",
      "|  male|  3|\n",
      "+------+---+\n",
      "\n"
     ]
    }
   ],
   "source": [
    "drop_col = ['C']\n",
    "ds.toDF(*new_colname).drop(*drop_col).show()"
   ]
  },
  {
   "cell_type": "code",
   "execution_count": null,
   "id": "70c8d94e",
   "metadata": {},
   "outputs": [],
   "source": []
  }
 ],
 "metadata": {
  "kernelspec": {
   "display_name": "Python 3 (ipykernel)",
   "language": "python",
   "name": "python3"
  },
  "language_info": {
   "codemirror_mode": {
    "name": "ipython",
    "version": 3
   },
   "file_extension": ".py",
   "mimetype": "text/x-python",
   "name": "python",
   "nbconvert_exporter": "python",
   "pygments_lexer": "ipython3",
   "version": "3.9.13"
  }
 },
 "nbformat": 4,
 "nbformat_minor": 5
}
