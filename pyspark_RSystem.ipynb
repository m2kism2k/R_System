{
 "cells": [
  {
   "cell_type": "code",
   "execution_count": 1,
   "id": "ab156158",
   "metadata": {},
   "outputs": [],
   "source": [
    "import os\n",
    "os.environ[\"Spark_home\"] = \"D:/spark-3.4.1-bin-hadoop3\""
   ]
  },
  {
   "cell_type": "code",
   "execution_count": 2,
   "id": "feeb91c3",
   "metadata": {},
   "outputs": [],
   "source": [
    "from pyspark.sql import SparkSession\n",
    "from pyspark.ml.evaluation import RegressionEvaluator\n",
    "from pyspark.ml.recommendation import ALS\n",
    "from pyspark.sql.functions import col\n",
    "spark = SparkSession.builder.appName('Recommendation_system').master(\"local\").getOrCreate()"
   ]
  },
  {
   "cell_type": "code",
   "execution_count": 3,
   "id": "a82b9aa1",
   "metadata": {},
   "outputs": [],
   "source": [
    "df = spark.read.csv(\"C:/Users/IDEAL/Desktop/ratings.csv\", inferSchema=True, header=True)"
   ]
  },
  {
   "cell_type": "code",
   "execution_count": 4,
   "id": "b57a3376",
   "metadata": {},
   "outputs": [
    {
     "name": "stdout",
     "output_type": "stream",
     "text": [
      "+------+-------+------+----------+\n",
      "|userId|movieId|rating| timestamp|\n",
      "+------+-------+------+----------+\n",
      "|     1|    110|   1.0|1425941529|\n",
      "|     1|    147|   4.5|1425942435|\n",
      "|     1|    858|   5.0|1425941523|\n",
      "|     1|   1221|   5.0|1425941546|\n",
      "|     1|   1246|   5.0|1425941556|\n",
      "|     1|   1968|   4.0|1425942148|\n",
      "|     1|   2762|   4.5|1425941300|\n",
      "|     1|   2918|   5.0|1425941593|\n",
      "|     1|   2959|   4.0|1425941601|\n",
      "|     1|   4226|   4.0|1425942228|\n",
      "|     1|   4878|   5.0|1425941434|\n",
      "|     1|   5577|   5.0|1425941397|\n",
      "|     1|  33794|   4.0|1425942005|\n",
      "|     1|  54503|   3.5|1425941313|\n",
      "|     1|  58559|   4.0|1425942007|\n",
      "|     1|  59315|   5.0|1425941502|\n",
      "|     1|  68358|   5.0|1425941464|\n",
      "|     1|  69844|   5.0|1425942139|\n",
      "|     1|  73017|   5.0|1425942699|\n",
      "|     1|  81834|   5.0|1425942133|\n",
      "+------+-------+------+----------+\n",
      "only showing top 20 rows\n",
      "\n"
     ]
    }
   ],
   "source": [
    "df.show()"
   ]
  },
  {
   "cell_type": "code",
   "execution_count": 5,
   "id": "69176a37",
   "metadata": {},
   "outputs": [
    {
     "name": "stdout",
     "output_type": "stream",
     "text": [
      "+-------+-----------------+------------------+------------------+--------------------+\n",
      "|summary|           userId|           movieId|            rating|           timestamp|\n",
      "+-------+-----------------+------------------+------------------+--------------------+\n",
      "|  count|         26024289|          26024289|          26024289|            26024289|\n",
      "|   mean| 135037.090248114|15849.109677040553|3.5280903543608817|1.1712584326913223E9|\n",
      "| stddev|78176.19722170963|31085.257531391508|1.0654427636662405|2.0528887028185263E8|\n",
      "|    min|                1|                 1|               0.5|           789652004|\n",
      "|    max|           270896|            176275|               5.0|          1501829870|\n",
      "+-------+-----------------+------------------+------------------+--------------------+\n",
      "\n"
     ]
    }
   ],
   "source": [
    "df.describe().show()"
   ]
  },
  {
   "cell_type": "code",
   "execution_count": 6,
   "id": "faefe29a",
   "metadata": {},
   "outputs": [],
   "source": [
    "training_set, test_set = df.randomSplit([0.8,0.2])"
   ]
  },
  {
   "cell_type": "code",
   "execution_count": 7,
   "id": "79c0a6ee",
   "metadata": {},
   "outputs": [
    {
     "data": {
      "text/plain": [
       "ALSModel: uid=ALS_50b2255484ae, rank=10"
      ]
     },
     "execution_count": 7,
     "metadata": {},
     "output_type": "execute_result"
    }
   ],
   "source": [
    "recommender = ALS(userCol='userId',itemCol='movieId',ratingCol='rating')\n",
    "recommender.fit(training_set)"
   ]
  },
  {
   "cell_type": "code",
   "execution_count": null,
   "id": "26346ff0",
   "metadata": {},
   "outputs": [],
   "source": []
  }
 ],
 "metadata": {
  "kernelspec": {
   "display_name": "Python 3 (ipykernel)",
   "language": "python",
   "name": "python3"
  },
  "language_info": {
   "codemirror_mode": {
    "name": "ipython",
    "version": 3
   },
   "file_extension": ".py",
   "mimetype": "text/x-python",
   "name": "python",
   "nbconvert_exporter": "python",
   "pygments_lexer": "ipython3",
   "version": "3.9.13"
  }
 },
 "nbformat": 4,
 "nbformat_minor": 5
}
