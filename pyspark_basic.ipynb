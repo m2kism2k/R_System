{
 "cells": [
  {
   "cell_type": "code",
   "execution_count": 15,
   "id": "79692fda",
   "metadata": {},
   "outputs": [],
   "source": [
    "#Create data frame\n",
    "from pyspark.sql import SparkSession"
   ]
  },
  {
   "cell_type": "code",
   "execution_count": 16,
   "id": "23bc21f8",
   "metadata": {},
   "outputs": [],
   "source": [
    "spark = SparkSession.builder.appName(\"pyspark_basic\").getOrCreate()"
   ]
  },
  {
   "cell_type": "code",
   "execution_count": 22,
   "id": "e580cc77",
   "metadata": {},
   "outputs": [],
   "source": [
    "df = spark.read.csv(\"C:/Users/IDEAL/Desktop/p1.csv\")"
   ]
  },
  {
   "cell_type": "code",
   "execution_count": 23,
   "id": "9017853f",
   "metadata": {},
   "outputs": [
    {
     "name": "stdout",
     "output_type": "stream",
     "text": [
      "+-----------+------+\n",
      "|        _c0|   _c1|\n",
      "+-----------+------+\n",
      "|Experiences|Salary|\n",
      "|          1|  2000|\n",
      "|        1.5|  2500|\n",
      "|          2|  3000|\n",
      "|        2.5|  3500|\n",
      "|          3|  4000|\n",
      "|        3.5|  4500|\n",
      "|          4|  5000|\n",
      "|        4.5|  5500|\n",
      "|          5|  6000|\n",
      "|        5.5|  6500|\n",
      "|          6|  7000|\n",
      "|        6.5|  7500|\n",
      "|          7|  8000|\n",
      "|        7.5|  8500|\n",
      "|          8|  9000|\n",
      "|        8.5|  9500|\n",
      "|          9| 10000|\n",
      "|        9.5| 11000|\n",
      "|         10| 15000|\n",
      "+-----------+------+\n",
      "\n"
     ]
    }
   ],
   "source": [
    "df.show()"
   ]
  },
  {
   "cell_type": "code",
   "execution_count": 24,
   "id": "34c448a7",
   "metadata": {},
   "outputs": [
    {
     "name": "stdout",
     "output_type": "stream",
     "text": [
      "Overwriting p2.csv\n"
     ]
    }
   ],
   "source": [
    "%%writefile p2.csv\n",
    "{\"name\":\"Min\"}\n",
    "{\"name\":\"bob\",\"age\":20}\n",
    "{\"name\":\"Json\",\"age\":18}"
   ]
  },
  {
   "cell_type": "code",
   "execution_count": 25,
   "id": "a391a15b",
   "metadata": {},
   "outputs": [],
   "source": [
    "df = spark.read.csv(\"p2.csv\")"
   ]
  },
  {
   "cell_type": "code",
   "execution_count": 26,
   "id": "283fab11",
   "metadata": {},
   "outputs": [
    {
     "name": "stdout",
     "output_type": "stream",
     "text": [
      "+--------------+\n",
      "|           _c0|\n",
      "+--------------+\n",
      "|{\"name\":\"Min\"}|\n",
      "| {\"name\":\"bob\"|\n",
      "|{\"name\":\"Json\"|\n",
      "+--------------+\n",
      "\n"
     ]
    }
   ],
   "source": [
    "df.show()"
   ]
  },
  {
   "cell_type": "code",
   "execution_count": 27,
   "id": "333aba47",
   "metadata": {},
   "outputs": [
    {
     "name": "stdout",
     "output_type": "stream",
     "text": [
      "root\n",
      " |-- _c0: string (nullable = true)\n",
      "\n"
     ]
    }
   ],
   "source": [
    "df.printSchema()"
   ]
  },
  {
   "cell_type": "code",
   "execution_count": null,
   "id": "59700143",
   "metadata": {},
   "outputs": [],
   "source": []
  }
 ],
 "metadata": {
  "kernelspec": {
   "display_name": "Python 3 (ipykernel)",
   "language": "python",
   "name": "python3"
  },
  "language_info": {
   "codemirror_mode": {
    "name": "ipython",
    "version": 3
   },
   "file_extension": ".py",
   "mimetype": "text/x-python",
   "name": "python",
   "nbconvert_exporter": "python",
   "pygments_lexer": "ipython3",
   "version": "3.9.13"
  }
 },
 "nbformat": 4,
 "nbformat_minor": 5
}
